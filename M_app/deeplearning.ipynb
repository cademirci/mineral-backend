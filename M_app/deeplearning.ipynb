{
 "cells": [
  {
   "cell_type": "code",
   "execution_count": 2,
   "metadata": {},
   "outputs": [],
   "source": [
    "from keras.preprocessing.image import ImageDataGenerator\n",
    "from keras.applications import VGG16, ResNet50\n",
    "from keras.models import Sequential\n",
    "from keras.layers import Dense, Flatten\n",
    "from keras.optimizers import Adam\n",
    "from keras.models import load_model\n",
    "from keras.preprocessing import image\n",
    "from keras.layers import Dense, Flatten\n",
    "from keras.optimizers import Adam\n",
    "import matplotlib.pyplot as plt\n",
    "import numpy as np\n",
    "import random\n",
    "import os\n"
   ]
  },
  {
   "cell_type": "code",
   "execution_count": 1,
   "metadata": {},
   "outputs": [],
   "source": [
    "train_dir = 'dataset/train'\n",
    "validation_dir = 'dataset/validation'\n",
    "test_dir = 'dataset/test'"
   ]
  },
  {
   "cell_type": "code",
   "execution_count": 9,
   "metadata": {},
   "outputs": [
    {
     "name": "stdout",
     "output_type": "stream",
     "text": [
      "Found 14589 images belonging to 12 classes.\n",
      "Found 1800 images belonging to 12 classes.\n",
      "Found 1200 images belonging to 12 classes.\n"
     ]
    }
   ],
   "source": [
    "train_datagen = ImageDataGenerator(\n",
    "    rescale=1./255,\n",
    "    rotation_range=40,\n",
    "    width_shift_range=0.2,\n",
    "    height_shift_range=0.2,\n",
    "    shear_range=0.2,\n",
    "    zoom_range=0.2,\n",
    "    horizontal_flip=True,\n",
    "    fill_mode='nearest'\n",
    ")\n",
    "\n",
    "validation_datagen = ImageDataGenerator(rescale=1./255)\n",
    "test_datagen = ImageDataGenerator(rescale=1./255)\n",
    "\n",
    "# Veri kümelerini oluşturma\n",
    "batch_size = 20\n",
    "\n",
    "train_dataset = train_datagen.flow_from_directory(\n",
    "    train_dir,\n",
    "    target_size=(224, 224),\n",
    "    batch_size=batch_size,\n",
    "    class_mode='categorical'\n",
    ")\n",
    "\n",
    "validation_dataset = validation_datagen.flow_from_directory(\n",
    "    validation_dir,\n",
    "    target_size=(224, 224),\n",
    "    batch_size=batch_size,\n",
    "    class_mode='categorical'\n",
    ")\n",
    "\n",
    "test_dataset = test_datagen.flow_from_directory(\n",
    "    test_dir,\n",
    "    target_size=(224, 224),\n",
    "    batch_size=batch_size,\n",
    "    class_mode='categorical'\n",
    ")"
   ]
  },
  {
   "cell_type": "code",
   "execution_count": null,
   "metadata": {},
   "outputs": [],
   "source": [
    "\n",
    "# ResNet-50 modeli\n",
    "resnet_model = ResNet50(weights='imagenet', include_top=False, input_shape=(224, 224, 3))\n",
    "\n",
    "\n",
    "model_resnet = Sequential()\n",
    "model_resnet.add(resnet_model)\n",
    "model_resnet.add(Flatten())\n",
    "model_resnet.add(Dense(512, activation='relu'))\n",
    "model_resnet.add(Dense(12, activation='softmax'))\n",
    "\n",
    "# Modeli derleme\n",
    "model_resnet.compile(optimizer=Adam(learning_rate=0.0001), loss='categorical_crossentropy', metrics=['accuracy'])\n",
    "\n",
    "# Eğitim verilerini ve doğrulama verilerini belirtme ve eğitim\n",
    "num_epochs = 35\n",
    "#history_vgg = model_vgg.fit(train_dataset, epochs=num_epochs, validation_data=validation_dataset)\n",
    "history_resnet = model_resnet.fit(train_dataset, epochs=num_epochs, validation_data=validation_dataset)\n"
   ]
  },
  {
   "cell_type": "code",
   "execution_count": 5,
   "metadata": {},
   "outputs": [
    {
     "name": "stderr",
     "output_type": "stream",
     "text": [
      "C:\\Users\\koktu\\AppData\\Local\\Packages\\PythonSoftwareFoundation.Python.3.11_qbz5n2kfra8p0\\LocalCache\\local-packages\\Python311\\site-packages\\keras\\src\\engine\\training.py:3103: UserWarning: You are saving your model as an HDF5 file via `model.save()`. This file format is considered legacy. We recommend using instead the native Keras format, e.g. `model.save('my_model.keras')`.\n",
      "  saving_api.save_model(\n"
     ]
    }
   ],
   "source": [
    "# ResNet modelini kaydetme\n",
    "model_resnet.save(\"resnet_model_35epoch.h5\")\n"
   ]
  },
  {
   "cell_type": "code",
   "execution_count": 5,
   "metadata": {},
   "outputs": [
    {
     "name": "stdout",
     "output_type": "stream",
     "text": [
      "WARNING:tensorflow:From C:\\Users\\koktu\\AppData\\Local\\Packages\\PythonSoftwareFoundation.Python.3.11_qbz5n2kfra8p0\\LocalCache\\local-packages\\Python311\\site-packages\\keras\\src\\backend.py:1398: The name tf.executing_eagerly_outside_functions is deprecated. Please use tf.compat.v1.executing_eagerly_outside_functions instead.\n",
      "\n",
      "WARNING:tensorflow:From C:\\Users\\koktu\\AppData\\Local\\Packages\\PythonSoftwareFoundation.Python.3.11_qbz5n2kfra8p0\\LocalCache\\local-packages\\Python311\\site-packages\\keras\\src\\layers\\pooling\\max_pooling2d.py:161: The name tf.nn.max_pool is deprecated. Please use tf.nn.max_pool2d instead.\n",
      "\n"
     ]
    }
   ],
   "source": [
    "model_path = 'resnet_model_35epoch.h5'\n",
    "model = load_model(model_path)"
   ]
  },
  {
   "cell_type": "code",
   "execution_count": null,
   "metadata": {},
   "outputs": [],
   "source": [
    "\n",
    "\n",
    "selected_model_resnet = model\n",
    "\n",
    "#Test veri setinin bulunduğu klasörü belirtin\n",
    "test_images_dir = test_dir  # Test görüntülerinin bulunduğu klasörün yolu\n",
    "\n",
    "\n",
    "#Sınıf etiketlerini alın\n",
    "class_labels = list(train_dataset.class_indices.keys())\n",
    "\n",
    "\n",
    "#Tüm test görüntülerini dolaşma\n",
    "\n",
    "correct_predictions = 0\n",
    "total_predictions = 0\n",
    "\n",
    "for root, dir, files in os.walk(test_images_dir):\n",
    "    for img_file in files:\n",
    "        # Görüntü dosyasının tam yolunu oluşturun\n",
    "        img_path = os.path.join(root, img_file)\n",
    "\n",
    "        # Görüntüyü modele uygun formata getirme\n",
    "        img = image.load_img(img_path, target_size=(224, 224))\n",
    "        img_array = image.img_to_array(img)\n",
    "        img_array = np.expand_dims(img_array, axis=0)\n",
    "        img_array /= 255.0  # Veriyi normalize etme\n",
    "\n",
    "        # Tahminlerde bulunma\n",
    "    \n",
    "        predictions_resnet = selected_model_resnet.predict(img_array)\n",
    "\n",
    "            # Tahmin edilen sınıf indekslerini alın\n",
    "            \n",
    "        predicted_class_resnet = np.argmax(predictions_resnet)\n",
    "\n",
    "        # Orijinal sınıfı alın\n",
    "        true_class = img_path.split(os.path.sep)[-2]  # Örneğin, 'dataset/test/class1/image.jpg' ise, sınıf 'class1' olacak\n",
    "\n",
    "            # Tahmin edilen sınıf adlarını alın\n",
    "        \n",
    "        predicted_class_label_resnet = class_labels[predicted_class_resnet]\n",
    "        \n",
    "        # plt.imshow(img)\n",
    "        # plt.title(f'Orijinal Sınıf: {true_class} Predicted Class: {predicted_class_label_resnet}')\n",
    "        # plt.show()\n",
    "\n",
    "        if true_class == class_labels[predicted_class_resnet]:\n",
    "                correct_predictions += 1\n",
    "\n",
    "        total_predictions += 1\n",
    "            \n",
    "        print(f'Görüntü: {img_file}, Orijinal Sınıf: {true_class}, ResNet Tahmini: {predicted_class_label_resnet}')\n",
    "        "
   ]
  }
 ],
 "metadata": {
  "kernelspec": {
   "display_name": "Python 3",
   "language": "python",
   "name": "python3"
  },
  "language_info": {
   "codemirror_mode": {
    "name": "ipython",
    "version": 3
   },
   "file_extension": ".py",
   "mimetype": "text/x-python",
   "name": "python",
   "nbconvert_exporter": "python",
   "pygments_lexer": "ipython3",
   "version": "3.11.6"
  }
 },
 "nbformat": 4,
 "nbformat_minor": 2
}
