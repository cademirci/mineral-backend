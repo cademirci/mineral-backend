{
 "cells": [
  {
   "cell_type": "code",
   "execution_count": 2,
   "metadata": {},
   "outputs": [
    {
     "name": "stdout",
     "output_type": "stream",
     "text": [
      "WARNING:tensorflow:From C:\\Users\\koktu\\AppData\\Local\\Packages\\PythonSoftwareFoundation.Python.3.11_qbz5n2kfra8p0\\LocalCache\\local-packages\\Python311\\site-packages\\keras\\src\\losses.py:2976: The name tf.losses.sparse_softmax_cross_entropy is deprecated. Please use tf.compat.v1.losses.sparse_softmax_cross_entropy instead.\n",
      "\n"
     ]
    }
   ],
   "source": [
    "from keras.preprocessing.image import ImageDataGenerator\n",
    "from keras.models import load_model\n",
    "from keras.preprocessing import image\n",
    "import numpy as np\n",
    "import os"
   ]
  },
  {
   "cell_type": "code",
   "execution_count": 3,
   "metadata": {},
   "outputs": [
    {
     "name": "stdout",
     "output_type": "stream",
     "text": [
      "WARNING:tensorflow:From C:\\Users\\koktu\\AppData\\Local\\Packages\\PythonSoftwareFoundation.Python.3.11_qbz5n2kfra8p0\\LocalCache\\local-packages\\Python311\\site-packages\\keras\\src\\backend.py:1398: The name tf.executing_eagerly_outside_functions is deprecated. Please use tf.compat.v1.executing_eagerly_outside_functions instead.\n",
      "\n",
      "WARNING:tensorflow:From C:\\Users\\koktu\\AppData\\Local\\Packages\\PythonSoftwareFoundation.Python.3.11_qbz5n2kfra8p0\\LocalCache\\local-packages\\Python311\\site-packages\\keras\\src\\layers\\pooling\\max_pooling2d.py:161: The name tf.nn.max_pool is deprecated. Please use tf.nn.max_pool2d instead.\n",
      "\n"
     ]
    }
   ],
   "source": [
    "model_path = 'mineral-backend-main/resnet_model_35epoch.h5'\n",
    "model = load_model(model_path)"
   ]
  },
  {
   "cell_type": "code",
   "execution_count": 3,
   "metadata": {},
   "outputs": [],
   "source": [
    "for root, dir, files in os.walk('dataset/input'):\n",
    "    for img_file in files:\n",
    "        # Görüntü dosyasının tam yolunu oluşturun\n",
    "        img_path = os.path.join(root, img_file)\n",
    "\n",
    "        # Görüntüyü modele uygun formata getirme\n",
    "        img = image.load_img(img_path, target_size=(224, 224))\n",
    "        img_array = image.img_to_array(img)\n",
    "        img_array = np.expand_dims(img_array, axis=0)\n",
    "        img_array /= 255.0  # Veriyi normalize etme"
   ]
  },
  {
   "cell_type": "code",
   "execution_count": 4,
   "metadata": {},
   "outputs": [
    {
     "name": "stdout",
     "output_type": "stream",
     "text": [
      "Found 14589 images belonging to 12 classes.\n"
     ]
    }
   ],
   "source": [
    "train=ImageDataGenerator(rescale=1./255, # piksel değerleri 0-255'den 0-1 arasına getiriliyor.\n",
    "      rotation_range=40, # istenilen artırma işlemleri yapılabilir.\n",
    "      width_shift_range=0.2,\n",
    "      height_shift_range=0.2,\n",
    "      shear_range=0.2,\n",
    "      zoom_range=0.2,\n",
    "      horizontal_flip=True,\n",
    "      fill_mode='nearest')\n",
    "validation=ImageDataGenerator(rescale=1/255)\n",
    "                              \n",
    "train_dataset=train.flow_from_directory('dataset/train',\n",
    "target_size=(224,224),\n",
    "batch_size=20,\n",
    "class_mode='categorical')\n",
    " \n",
    "\n",
    " "
   ]
  },
  {
   "cell_type": "code",
   "execution_count": 5,
   "metadata": {},
   "outputs": [
    {
     "name": "stdout",
     "output_type": "stream",
     "text": [
      "1/1 [==============================] - 2s 2s/step\n",
      "Predicted Class for Image 1: calcite\n"
     ]
    }
   ],
   "source": [
    "# 'dataset/input' klasöründeki tüm dosya yollarını al\n",
    "image_folder = 'dataset/input'\n",
    "image_paths = [os.path.join(image_folder, img) for img in os.listdir(image_folder)]\n",
    "\n",
    "# Giriş verilerini oluştur\n",
    "input_images = []\n",
    "for img_path in image_paths:\n",
    "    img = image.load_img(img_path, target_size=(224, 224))\n",
    "    img_array = image.img_to_array(img)\n",
    "    img_array = np.expand_dims(img_array, axis=0)\n",
    "    img_array /= 255.0  # Rescale to [0, 1]\n",
    "    input_images.append(img_array)\n",
    "\n",
    "input_images = np.vstack(input_images)  # Birleştirerek tek bir matris oluştur\n",
    "\n",
    "# Tahmin yap\n",
    "predictions = model.predict(input_images)\n",
    "\n",
    "# Tahmin sonuçlarını incele\n",
    "class_indices = train_dataset.class_indices\n",
    "predicted_classes = np.argmax(predictions, axis=1)\n",
    "\n",
    "for i, predicted_class_index in enumerate(predicted_classes):\n",
    "    predicted_class_name = [k for k, v in class_indices.items() if v == predicted_class_index][0]\n",
    "    print(f\"Predicted Class for Image {i + 1}: {predicted_class_name}\")\n"
   ]
  }
 ],
 "metadata": {
  "kernelspec": {
   "display_name": "Python 3",
   "language": "python",
   "name": "python3"
  },
  "language_info": {
   "codemirror_mode": {
    "name": "ipython",
    "version": 3
   },
   "file_extension": ".py",
   "mimetype": "text/x-python",
   "name": "python",
   "nbconvert_exporter": "python",
   "pygments_lexer": "ipython3",
   "version": "3.11.6"
  }
 },
 "nbformat": 4,
 "nbformat_minor": 2
}
